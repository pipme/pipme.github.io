{
  "cells": [
    {
      "cell_type": "markdown",
      "metadata": {},
      "source": [
        "# Quarto tips\n",
        "\n",
        "\\| [Chengkun Li]()  \n",
        "2023-06-11\n",
        "\n",
        "## Building the website\n",
        "\n",
        "Unicode `\\u200B` for zero width space, e.g., in `_quarto.yml` I used it\n",
        "for an item with only an icon <i class=\"bi bi-card-list\"></i> in the\n",
        "navigation bar. Note that I tried HTML’s `&#8203;` but it doesn’t work.\n",
        "\n",
        "Extensions for adding icons such as google scholar and 500px (see the\n",
        "website’s footer):\n",
        "\n",
        "``` bash\n",
        ".\n",
        "├── quarto-ext\n",
        "│   └── fontawesome\n",
        "└── schochastics\n",
        "    └── academicons\n",
        "```\n",
        "\n",
        "For publishing a Quarto website, I recommend using the second option in\n",
        "the [official\n",
        "documentation](https://quarto.org/docs/publishing/github-pages.html).\n",
        "After set up, simply call:\n",
        "\n",
        "``` bash\n",
        "quarto publish gh-pages --no-prompt\n",
        "```\n",
        "\n",
        "## Known issues\n",
        "\n",
        "No option to hide `Edit this page` or enforce it to be on the left\n",
        "sidebar when the table of contents is empty.\n",
        "[Issue#5283](https://github.com/quarto-dev/quarto-cli/issues/5283)\n",
        "\n",
        "## For trials\n",
        "\n",
        "(Genton 2001)\n",
        "\n",
        "## LaTeX\n",
        "\n",
        "Visible in pdf only. \\### plain LaTeX Just a sample algorithm:"
      ],
      "id": "fe2bb514-606d-4c2b-91f4-59064279aff9"
    },
    {
      "cell_type": "raw",
      "metadata": {
        "raw_mimetype": "tex"
      },
      "source": [
        "\\begin{algorithm}[H]\n",
        "\\DontPrintSemicolon\n",
        "\\SetAlgoLined\n",
        "\\KwResult{Write here the result}\n",
        "\\SetKwInOut{Input}{Input}\\SetKwInOut{Output}{Output}\n",
        "\\Input{Write here the input}\n",
        "\\Output{Write here the output}\n",
        "\\BlankLine\n",
        "\\While{While condition}{\n",
        "    instructions\\;\n",
        "    \\eIf{condition}{\n",
        "        instructions1\\;\n",
        "        instructions2\\;\n",
        "    }{\n",
        "        instructions3\\;\n",
        "    }\n",
        "}\n",
        "\\caption{While loop with If/Else condition}\n",
        "\\end{algorithm}"
      ],
      "id": "863c96ef-a600-4699-a714-b1f85813378e"
    },
    {
      "cell_type": "markdown",
      "metadata": {},
      "source": [
        "# References\n",
        "\n",
        "Genton, Marc G. 2001. “Classes of Kernels for Machine Learning: A\n",
        "Statistics Perspective.” *Journal of Machine Learning Research* 2:\n",
        "299–312. <https://www.jmlr.org/papers/v2/genton01a>."
      ],
      "id": "dde727f7-2f7c-4e1a-8894-e21cb4053880"
    }
  ],
  "nbformat": 4,
  "nbformat_minor": 5,
  "metadata": {
    "kernelspec": {
      "display_name": "Python 3",
      "language": "python",
      "name": "python3"
    }
  }
}
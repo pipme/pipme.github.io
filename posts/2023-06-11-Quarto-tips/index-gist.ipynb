{
  "cells": [
    {
      "cell_type": "markdown",
      "metadata": {},
      "source": [
        "# Quarto tips\n",
        "\n",
        "\\| [Chengkun Li]()  \n",
        "2023-06-11\n",
        "\n",
        "## Building the website\n",
        "\n",
        "Unicode `\\u200B` for zero width space, e.g., in `_quarto.yml` I used it\n",
        "for an item in the navigation bar with icon only. Note that I tried\n",
        "HTML’s `&#8203;` but it doesn’t work.\n",
        "\n",
        "Extensions for adding icons such as google scholar and 500px (see the\n",
        "website’s footer):\n",
        "\n",
        "``` bash\n",
        ".\n",
        "├── quarto-ext\n",
        "│   └── fontawesome\n",
        "└── schochastics\n",
        "    └── academicons\n",
        "```"
      ],
      "id": "81a731bc-f947-4412-a134-b35a4a52393a"
    },
    {
      "cell_type": "raw",
      "metadata": {
        "raw_mimetype": "text/html"
      },
      "source": [
        "<!-- ## LaTeX\n",
        "\n",
        "### plain LaTeX\n",
        "Just a sample algorithm:\n",
        "\n",
        "```latex\n",
        "\\begin{algorithm}[H]\n",
        "\\DontPrintSemicolon\n",
        "\\SetAlgoLined\n",
        "\\KwResult{Write here the result}\n",
        "\\SetKwInOut{Input}{Input}\\SetKwInOut{Output}{Output}\n",
        "\\Input{Write here the input}\n",
        "\\Output{Write here the output}\n",
        "\\BlankLine\n",
        "\\While{While condition}{\n",
        "    instructions\\;\n",
        "    \\eIf{condition}{\n",
        "        instructions1\\;\n",
        "        instructions2\\;\n",
        "    }{\n",
        "        instructions3\\;\n",
        "    }\n",
        "}\n",
        "\\caption{While loop with If/Else condition}\n",
        "\\end{algorithm} \n",
        "``` -->"
      ],
      "id": "61d5a116-9519-4881-9ee3-8fa90fdf910d"
    },
    {
      "cell_type": "markdown",
      "metadata": {},
      "source": [
        "## For trials\n",
        "\n",
        "(Genton 2001)\n",
        "\n",
        "# References\n",
        "\n",
        "Genton, Marc G. 2001. “Classes of Kernels for Machine Learning: A\n",
        "Statistics Perspective.” *Journal of Machine Learning Research* 2:\n",
        "299–312. <https://www.jmlr.org/papers/v2/genton01a>."
      ],
      "id": "fe45a923-0f4d-499b-9b5d-96ffbea841a1"
    }
  ],
  "nbformat": 4,
  "nbformat_minor": 5,
  "metadata": {
    "kernelspec": {
      "display_name": "Python 3",
      "language": "python",
      "name": "python3"
    }
  }
}
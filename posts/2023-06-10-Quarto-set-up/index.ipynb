{
  "cells": [
    {
      "cell_type": "markdown",
      "metadata": {},
      "source": [
        "# Start Blogging with Quarto\n",
        "\n",
        "\\| [Chengkun Li]()  \n",
        "2023-06-10\n",
        "\n",
        "This is the first post in a Quarto blog. Welcome! (Wilson and Izmailov\n",
        "2022; Navarro 2022)\n",
        "\n",
        "Since this post doesn’t specify an explicit `image`, the first image in\n",
        "the post will be used in the listing page[1] of posts.(Navarro 2022)\n",
        "\n",
        "Navarro, Danielle. 2022. “Porting a Distill Blog to Quarto.” April 20,\n",
        "2022. <https://blog.djnavarro.net/posts/2022-04-20_porting-to-quarto>.\n",
        "\n",
        "Wilson, Andrew Gordon, and Pavel Izmailov. 2022. “Bayesian Deep Learning\n",
        "and a Probabilistic Perspective of Generalization.” March 30, 2022.\n",
        "<http://arxiv.org/abs/2002.08791>.\n",
        "\n",
        "[1] A FOOTNOTE"
      ],
      "id": "49860edc-2187-4ed3-bb5e-aba583c1ecf5"
    }
  ],
  "nbformat": 4,
  "nbformat_minor": 5,
  "metadata": {
    "kernelspec": {
      "display_name": "Python 3",
      "language": "python",
      "name": "python3"
    }
  }
}
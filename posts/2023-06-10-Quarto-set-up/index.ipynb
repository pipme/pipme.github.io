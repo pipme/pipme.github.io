{
  "cells": [
    {
      "cell_type": "markdown",
      "metadata": {},
      "source": [
        "# Start Blogging with Quarto\n",
        "\n",
        "\\| [Chengkun Li]()  \n",
        "2023-06-10\n",
        "\n",
        "Quarto seems to be a great choice for posting with executable codes and\n",
        "it’s nice that one can generate pdfs, slides etc. from a quasi-markdown\n",
        "file with unified styles (qmd). So I decide to start blogging with\n",
        "Quarto and probably make slides with it in the future as the web-based\n",
        "solution (revealjs) looks elegant and promising in the long run.\n",
        "\n",
        "Building a site with Quarto is relatively easy and interesting. The\n",
        "documentation is very nicely written. You could find some useful tips\n",
        "[here](../2023-06-11-Quarto-tips/index-gist.qmd). See Navarro (2022) for\n",
        "more workthrough details.\n",
        "\n",
        "By the way, I fell in love with writing in markdown since the birth of\n",
        "another great tool [Obsidian](https://obsidian.md/) and gradually\n",
        "realize that habitual writing is essential for a researcher, for\n",
        "building one’s second brain, undertanding things better and sharing\n",
        "knowledge.\n",
        "\n",
        "For Obsidian, I put some useful plugins\n",
        "[here](../2023-06-11-Obsidian-Zotero-tips/), together with Zotero’s.\n",
        "Maybe I could write a blog for sharing my workflows in an academic life.\n",
        "I will probably wait until I get more familiar with Quarto and see how\n",
        "they fit with daily needs.\n",
        "\n",
        "Welcome to my blog 😃 ✓ :grinning:! Here is some plain text.\n",
        "\n",
        "Next, let’s write some pseudo code. Note that you don’t *have* to\n",
        "specify a language if using plain backticks.\n",
        "\n",
        "    object <- [some kind of calculation]\n",
        "\n",
        "If you set `eval = FALSE` you can get the highlighted background"
      ],
      "id": "857ed4e4-42c8-4d08-9971-005cb9792554"
    },
    {
      "cell_type": "code",
      "execution_count": null,
      "metadata": {},
      "outputs": [],
      "source": [
        "object <- [some kind of calculation]\n",
        "Note that this; is not valid R code"
      ],
      "id": "d84fc8da-2849-4b4b-b862-cdbffab43260"
    },
    {
      "cell_type": "markdown",
      "metadata": {},
      "source": [
        "You may find it interesting that your example works just fine for me."
      ],
      "id": "c6bf16c9-1c88-4a7b-93c5-4786c84079d0"
    },
    {
      "cell_type": "code",
      "execution_count": null,
      "metadata": {},
      "outputs": [],
      "source": [
        "loop through each species\n",
        "    loop through each measurement of the current species\n",
        "    ...\n",
        "etc."
      ],
      "id": "a16edccf-17eb-433a-bcfc-815ad7675c02"
    },
    {
      "cell_type": "markdown",
      "metadata": {},
      "source": [
        "# Algorithm 1\n",
        "\n",
        "Just a sample algorithmn"
      ],
      "id": "40f41b4f-7523-4775-9892-804cf0e7ec79"
    },
    {
      "cell_type": "raw",
      "metadata": {
        "raw_mimetype": "tex"
      },
      "source": [
        "\\begin{algorithm}[H]\n",
        "\\DontPrintSemicolon\n",
        "\\SetAlgoLined\n",
        "\\KwResult{Write here the result}\n",
        "\\SetKwInOut{Input}{Input}\\SetKwInOut{Output}{Output}\n",
        "\\Input{Write here the input}\n",
        "\\Output{Write here the output}\n",
        "\\BlankLine\n",
        "\\While{While condition}{\n",
        "    instructions\\;\n",
        "    \\eIf{condition}{\n",
        "        instructions1\\;\n",
        "        instructions2\\;\n",
        "    }{\n",
        "        instructions3\\;\n",
        "    }\n",
        "}\n",
        "\\caption{While loop with If/Else condition}\n",
        "\\end{algorithm}"
      ],
      "id": "9b5fec9c-1a5a-4392-8105-46bbb9ce93fa"
    },
    {
      "cell_type": "markdown",
      "metadata": {},
      "source": [
        "Navarro, Danielle. 2022. “Porting a Distill Blog to Quarto.” April 20,\n",
        "2022. <https://blog.djnavarro.net/posts/2022-04-20_porting-to-quarto>."
      ],
      "id": "937fea74-38b2-4136-b0d5-759b3f2f6665"
    }
  ],
  "nbformat": 4,
  "nbformat_minor": 5,
  "metadata": {
    "kernelspec": {
      "display_name": "Python 3",
      "language": "python",
      "name": "python3"
    }
  }
}